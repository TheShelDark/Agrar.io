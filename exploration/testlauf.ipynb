{
 "cells": [
  {
   "cell_type": "markdown",
   "id": "1a9d833c-2d5d-473f-a066-516cd5dba4db",
   "metadata": {},
   "source": [
    "# Testlauf für 4 Felder"
   ]
  },
  {
   "cell_type": "markdown",
   "id": "b61a9d42-f1fc-4b69-9434-6776f5ff0d27",
   "metadata": {},
   "source": [
    "### Wir nehmen an, dass unser Landwirt 4 Felder hat für welche er unser Tool nutzen möchte"
   ]
  },
  {
   "cell_type": "markdown",
   "id": "309d9011-ecc8-4668-ab32-613b19fc53ff",
   "metadata": {},
   "source": [
    "### Als erstes müssen die Daten des Feldes (Bodendaten + Größe + Koordinaten) spezifiziert werden"
   ]
  },
  {
   "cell_type": "code",
   "execution_count": 1,
   "id": "deef0b0f-f4f9-4b40-b5ff-fc3397026c49",
   "metadata": {},
   "outputs": [],
   "source": [
    "feldliste = [\n",
    "             [10, 59, 15, 29.83040388, 89.30428305, 6.32400451, 58.86687093, 3000, 57.4778, 4.2269],\n",
    "             [13, 144, 204, 30.7280404, 82.42614055, 6.092241627, 68.38135469, 12000, 63.4305, 10.3951], \n",
    "             [98, 27, 27, 24.71384065, 51.29142534, 7.238109556, 197.6439711, 17000, 46.0569, 14.5058], \n",
    "             [101, 20, 48, 24.6774157, 82.75411437, 6.206247494, 57.05709413, 7000, 41.3954, 2.1601], \n",
    "             [9, 143, 197, 23.75033085, 92.88160462, 5.570020684, 117.6602827, 1500, 49.5766, 11.0426],\n",
    "             [34, 10, 14, 34.05296914, 92.05811721, 6.725600855, 116.8020848, 30000, 43.2259, 23.9623],\n",
    "             [127, 53, 24, 22.21506982, 76.17851932, 6.127939628, 70.40557612, 10000, 54.3242, 3.0573],\n",
    "             [59, 60, 84, 19.23025305, 18.96725565, 7.690962338, 95.70992037, 14500, 43.9106, 12.9132]\n",
    "            ]"
   ]
  },
  {
   "cell_type": "markdown",
   "id": "c419b094-0762-42ee-b979-e1aaaf3d46f9",
   "metadata": {},
   "source": [
    "### Trainieren des ML Algorithmus"
   ]
  },
  {
   "cell_type": "code",
   "execution_count": 2,
   "id": "b798de2c-3c0e-4f57-b29f-fc6e0e2cee46",
   "metadata": {},
   "outputs": [
    {
     "data": {
      "text/plain": [
       "1.0"
      ]
     },
     "execution_count": 2,
     "metadata": {},
     "output_type": "execute_result"
    }
   ],
   "source": [
    "# Imports\n",
    "import pandas as pd\n",
    "from sklearn.tree import DecisionTreeClassifier\n",
    "from sklearn.model_selection import train_test_split\n",
    "from sklearn.metrics import accuracy_score\n",
    "\n",
    "# Laden der Daten aus der CSV-Datei\n",
    "data = pd.read_csv('crop_recommendation.csv')\n",
    "\n",
    "# Aufteilen der Daten in Features und Labels\n",
    "X = data.drop('label', axis=1)\n",
    "y = data['label']\n",
    "\n",
    "# Teilen der Daten in Trainings- und Testdaten\n",
    "X_train, X_test, y_train, y_test = train_test_split(X, y, test_size=0.2)\n",
    "\n",
    "# Erstellen eines DescisionTree-Classifiers\n",
    "clf = DecisionTreeClassifier()\n",
    "\n",
    "# Trainieren des Algorithmus auf den Trainingsdaten\n",
    "clf.fit(X_train, y_train)\n",
    "\n",
    "# Vorhersagen mit den Testdaten\n",
    "y_pred = clf.predict(X_test)\n",
    "\n",
    "# Auswertung der Leistung des Algorithmus\n",
    "genauigkeit = accuracy_score(y_test, y_pred)\n",
    "\n",
    "genauigkeit"
   ]
  },
  {
   "cell_type": "code",
   "execution_count": 3,
   "id": "cce51c13-87d1-473c-9dc6-c74c28624708",
   "metadata": {},
   "outputs": [
    {
     "data": {
      "text/plain": [
       "[[10,\n",
       "  59,\n",
       "  15,\n",
       "  29.83040388,\n",
       "  89.30428305,\n",
       "  6.32400451,\n",
       "  58.86687093,\n",
       "  3000,\n",
       "  57.4778,\n",
       "  4.2269],\n",
       " [13,\n",
       "  144,\n",
       "  204,\n",
       "  30.7280404,\n",
       "  82.42614055,\n",
       "  6.092241627,\n",
       "  68.38135469,\n",
       "  12000,\n",
       "  63.4305,\n",
       "  10.3951],\n",
       " [98,\n",
       "  27,\n",
       "  27,\n",
       "  24.71384065,\n",
       "  51.29142534,\n",
       "  7.238109556,\n",
       "  197.6439711,\n",
       "  17000,\n",
       "  46.0569,\n",
       "  14.5058],\n",
       " [101,\n",
       "  20,\n",
       "  48,\n",
       "  24.6774157,\n",
       "  82.75411437,\n",
       "  6.206247494,\n",
       "  57.05709413,\n",
       "  7000,\n",
       "  41.3954,\n",
       "  2.1601],\n",
       " [9,\n",
       "  143,\n",
       "  197,\n",
       "  23.75033085,\n",
       "  92.88160462,\n",
       "  5.570020684,\n",
       "  117.6602827,\n",
       "  1500,\n",
       "  49.5766,\n",
       "  11.0426],\n",
       " [34,\n",
       "  10,\n",
       "  14,\n",
       "  34.05296914,\n",
       "  92.05811721,\n",
       "  6.725600855,\n",
       "  116.8020848,\n",
       "  30000,\n",
       "  43.2259,\n",
       "  23.9623],\n",
       " [127,\n",
       "  53,\n",
       "  24,\n",
       "  22.21506982,\n",
       "  76.17851932,\n",
       "  6.127939628,\n",
       "  70.40557612,\n",
       "  10000,\n",
       "  54.3242,\n",
       "  3.0573],\n",
       " [59,\n",
       "  60,\n",
       "  84,\n",
       "  19.23025305,\n",
       "  18.96725565,\n",
       "  7.690962338,\n",
       "  95.70992037,\n",
       "  14500,\n",
       "  43.9106,\n",
       "  12.9132]]"
      ]
     },
     "execution_count": 3,
     "metadata": {},
     "output_type": "execute_result"
    }
   ],
   "source": [
    "feldliste"
   ]
  },
  {
   "cell_type": "code",
   "execution_count": 4,
   "id": "6b1b39da-41a3-4f88-a4ff-b7f8b75e459e",
   "metadata": {},
   "outputs": [
    {
     "data": {
      "text/plain": [
       "array(['cowpeas', 'grapes', 'coffee', 'watermelon', 'apple', 'orange',\n",
       "       'cotton', 'Soyabeans'], dtype=object)"
      ]
     },
     "execution_count": 4,
     "metadata": {},
     "output_type": "execute_result"
    }
   ],
   "source": [
    "predict_list = []\n",
    "\n",
    "for f in feldliste:\n",
    "    predict_list.append(f[:-3])\n",
    "    \n",
    "predict_df = pd.DataFrame(predict_list, columns=['N', 'P', 'K', 'temperature', 'humidity', 'ph', 'rainfall'])\n",
    "\n",
    "felder_predict = clf.predict(predict_df)\n",
    "felder_predict"
   ]
  },
  {
   "cell_type": "code",
   "execution_count": 5,
   "id": "a3dde4ba-c673-4bb5-9cb3-2eeefe6b85dd",
   "metadata": {},
   "outputs": [
    {
     "name": "stdout",
     "output_type": "stream",
     "text": [
      "<mysql.connector.connection_cext.CMySQLConnection object at 0x00000161B415B340>\n"
     ]
    }
   ],
   "source": [
    "import mysql.connector\n",
    "import os\n",
    "from dotenv import load_dotenv\n",
    "\n",
    "load_dotenv()\n",
    "username = os.environ.get('AZURE_USER')\n",
    "password = os.environ.get('PASSWORD')\n",
    "host = os.environ.get('HOST')\n",
    "db = os.environ.get('DB')\n",
    "\n",
    "# Establish the connection\n",
    "conn = mysql.connector.connect(\n",
    "  user=username, \n",
    "  password=password, \n",
    "  host=host, \n",
    "  database=db\n",
    ")\n",
    "print(conn)"
   ]
  },
  {
   "cell_type": "code",
   "execution_count": 6,
   "id": "bce914e9-b692-4cfc-b519-6648d0f77612",
   "metadata": {},
   "outputs": [],
   "source": [
    "cursor = conn.cursor()"
   ]
  },
  {
   "cell_type": "code",
   "execution_count": 7,
   "id": "9461a8d4-ca77-451a-8380-294bc7e759d4",
   "metadata": {},
   "outputs": [
    {
     "data": {
      "text/plain": [
       "[[3000, 57.4778, 4.2269, 'cowpeas'],\n",
       " [12000, 63.4305, 10.3951, 'grapes'],\n",
       " [17000, 46.0569, 14.5058, 'coffee'],\n",
       " [7000, 41.3954, 2.1601, 'watermelon'],\n",
       " [1500, 49.5766, 11.0426, 'apple'],\n",
       " [30000, 43.2259, 23.9623, 'orange'],\n",
       " [10000, 54.3242, 3.0573, 'cotton'],\n",
       " [14500, 43.9106, 12.9132, 'Soyabeans']]"
      ]
     },
     "execution_count": 7,
     "metadata": {},
     "output_type": "execute_result"
    }
   ],
   "source": [
    "insert_list = []\n",
    "for idx, item in enumerate(feldliste):\n",
    "    insert_list.append(item[-3:])\n",
    "    insert_list[idx].append(felder_predict[idx])\n",
    "    \n",
    "insert_list"
   ]
  },
  {
   "cell_type": "code",
   "execution_count": 8,
   "id": "6ff477c7-bc24-4a8e-b61f-3f654855ffdd",
   "metadata": {},
   "outputs": [],
   "source": [
    "for idx, item in enumerate(insert_list):   \n",
    "    cursor.execute(f\"SELECT * FROM ernte WHERE ernte_name='{item[3]}'\")\n",
    "    result = cursor.fetchall()\n",
    "    item[3] = result[0][0]\n",
    "    insert_list[idx] = tuple(item)\n",
    "    \n",
    "sql_code = \"INSERT INTO feld (feld_groesse, lat, lon, ernte_id) VALUES (%s, %s, %s, %s)\"\n",
    "\n",
    "cursor.executemany(sql_code, insert_list)\n",
    "conn.commit()"
   ]
  },
  {
   "cell_type": "code",
   "execution_count": 9,
   "id": "2fc79cc5-3e27-42b8-8158-a3e2039d48b2",
   "metadata": {},
   "outputs": [],
   "source": [
    "import requests\n",
    "from datetime import datetime\n",
    "\n",
    "api_key = os.environ.get('API_KEY')\n",
    "cursor.execute(\"SELECT * FROM feld\")\n",
    "feld_query = cursor.fetchall()\n",
    "\n",
    "\n",
    "for feld in feld_query:\n",
    "    response = requests.get(f\"https://api.openweathermap.org/data/3.0/onecall?lat={feld[2]}&lon={feld[3]}&exclude=current,minutely,hourly,alerts&appid={api_key}\")\n",
    "    \n",
    "    rain_insert_list = []\n",
    "    \n",
    "    for day in response.json()[\"daily\"]:\n",
    "        date_value = datetime.fromtimestamp(day['dt']).strftime('%Y-%m-%d')\n",
    "        \n",
    "        if \"rain\" in day:\n",
    "            rain_value = day['rain']\n",
    "        else:\n",
    "            rain_value = 0.0\n",
    "            \n",
    "        feld_value = feld[0]\n",
    "        \n",
    "        rain_insert_values = (date_value, rain_value, feld_value)\n",
    "        \n",
    "        rain_insert_list.append(rain_insert_values)\n",
    "\n",
    "    \n",
    "    sql_code = \"INSERT INTO niederschlag_pro_tag (datum, niederschlag, feld_id) VALUES (%s, %s, %s)\"\n",
    "\n",
    "    cursor.executemany(sql_code, rain_insert_list)\n",
    "    conn.commit()\n",
    "    "
   ]
  },
  {
   "cell_type": "code",
   "execution_count": 10,
   "id": "dc07f875-c3bb-4a88-ac47-e7ceec816e80",
   "metadata": {},
   "outputs": [
    {
     "data": {
      "text/plain": [
       "[('2023-04-05', 0.0, 1),\n",
       " ('2023-04-06', 0.11, 1),\n",
       " ('2023-04-07', 0.0, 1),\n",
       " ('2023-04-08', 0.0, 1),\n",
       " ('2023-04-09', 0.13, 1),\n",
       " ('2023-04-10', 1.39, 1),\n",
       " ('2023-04-11', 6.29, 1),\n",
       " ('2023-04-12', 3.2, 1),\n",
       " ('2023-04-06', 0.0, 2),\n",
       " ('2023-04-07', 0.0, 2),\n",
       " ('2023-04-08', 0.0, 2),\n",
       " ('2023-04-09', 0.0, 2),\n",
       " ('2023-04-10', 0.0, 2),\n",
       " ('2023-04-11', 0.0, 2),\n",
       " ('2023-04-12', 0.0, 2),\n",
       " ('2023-04-13', 0.0, 2),\n",
       " ('2023-04-06', 0.0, 3),\n",
       " ('2023-04-07', 0.0, 3),\n",
       " ('2023-04-08', 1.62, 3),\n",
       " ('2023-04-09', 1.47, 3),\n",
       " ('2023-04-10', 0.0, 3),\n",
       " ('2023-04-11', 7.6, 3),\n",
       " ('2023-04-12', 7.78, 3),\n",
       " ('2023-04-13', 1.76, 3),\n",
       " ('2023-04-06', 0.0, 4),\n",
       " ('2023-04-07', 0.0, 4),\n",
       " ('2023-04-08', 0.0, 4),\n",
       " ('2023-04-09', 0.0, 4),\n",
       " ('2023-04-10', 0.0, 4),\n",
       " ('2023-04-11', 0.0, 4),\n",
       " ('2023-04-12', 0.0, 4),\n",
       " ('2023-04-13', 4.46, 4),\n",
       " ('2023-04-06', 0.0, 5),\n",
       " ('2023-04-07', 0.0, 5),\n",
       " ('2023-04-08', 0.0, 5),\n",
       " ('2023-04-09', 0.0, 5),\n",
       " ('2023-04-10', 0.35, 5),\n",
       " ('2023-04-11', 6.91, 5),\n",
       " ('2023-04-12', 1.17, 5),\n",
       " ('2023-04-13', 1.24, 5),\n",
       " ('2023-04-06', 0.0, 6),\n",
       " ('2023-04-07', 0.0, 6),\n",
       " ('2023-04-08', 3.38, 6),\n",
       " ('2023-04-09', 19.39, 6),\n",
       " ('2023-04-10', 1.63, 6),\n",
       " ('2023-04-11', 1.68, 6),\n",
       " ('2023-04-12', 0.0, 6),\n",
       " ('2023-04-13', 0.0, 6),\n",
       " ('2023-04-05', 0.0, 7),\n",
       " ('2023-04-06', 7.36, 7),\n",
       " ('2023-04-07', 0.0, 7),\n",
       " ('2023-04-08', 0.0, 7),\n",
       " ('2023-04-09', 0.12, 7),\n",
       " ('2023-04-10', 0.52, 7),\n",
       " ('2023-04-11', 11.0, 7),\n",
       " ('2023-04-12', 9.19, 7),\n",
       " ('2023-04-06', 0.0, 8),\n",
       " ('2023-04-07', 0.85, 8),\n",
       " ('2023-04-08', 2.51, 8),\n",
       " ('2023-04-09', 0.57, 8),\n",
       " ('2023-04-10', 0.0, 8),\n",
       " ('2023-04-11', 15.93, 8),\n",
       " ('2023-04-12', 23.79, 8),\n",
       " ('2023-04-13', 0.91, 8)]"
      ]
     },
     "execution_count": 10,
     "metadata": {},
     "output_type": "execute_result"
    }
   ],
   "source": [
    "cursor.execute(\"SELECT * FROM niederschlag_pro_tag\")\n",
    "rain_query = cursor.fetchall()\n",
    "\n",
    "rain_query"
   ]
  },
  {
   "cell_type": "code",
   "execution_count": 11,
   "id": "3677e665-9e69-4ca2-8a65-f044079053af",
   "metadata": {},
   "outputs": [],
   "source": [
    "cursor.execute(\"SELECT * FROM feld\")\n",
    "feld_query = cursor.fetchall()\n",
    "final_value_insert = []\n",
    "\n",
    "for feld in feld_query:\n",
    "    feld_id = feld[0]\n",
    "    feld_groesse = feld[1]\n",
    "    \n",
    "    cursor.execute(f\"SELECT * FROM ernte WHERE ernte_id='{feld[-1]}'\")\n",
    "    ernte_query = cursor.fetchall()\n",
    "    \n",
    "    ernte_id = ernte_query[0][0]\n",
    "    wasser_konsum = ernte_query[0][2]\n",
    "    \n",
    "    cursor.execute(f\"SELECT * FROM niederschlag_pro_tag WHERE feld_id='{feld_id}'\")\n",
    "    rain_query = cursor.fetchall()\n",
    "    \n",
    "    for rain_value in rain_query:\n",
    "        wasserbedarf_insert_value = (wasser_konsum - rain_value[1])\n",
    "        \n",
    "        if wasserbedarf_insert_value < 0:\n",
    "            wasserbedarf_insert_value = 0\n",
    "        \n",
    "        wasserbedarf_insert_value_combined = (wasser_konsum - rain_value[1]) * feld_groesse\n",
    "        \n",
    "        if wasserbedarf_insert_value_combined < 0:\n",
    "            wasserbedarf_insert_value_combined = 0\n",
    "            \n",
    "        insert_tuple = (feld_id, ernte_id, rain_value[0], wasserbedarf_insert_value_combined, wasserbedarf_insert_value)\n",
    "        final_value_insert.append(insert_tuple)\n",
    "\n",
    "        \n",
    "sql_code = \"INSERT INTO wasserbedarfsanalyse (feld_id, ernte_id, datum, wasserbedarf_pro_tag, wasserbedarf_pro_tag_pro_m2) VALUES (%s, %s, %s, %s, %s)\"\n",
    "\n",
    "cursor.executemany(sql_code, final_value_insert)\n",
    "conn.commit()\n",
    "    "
   ]
  },
  {
   "cell_type": "code",
   "execution_count": 12,
   "id": "fb02b97f-1785-4215-b418-3bc2c49d7ff0",
   "metadata": {},
   "outputs": [
    {
     "data": {
      "text/plain": [
       "[(1, 7, '2023-04-05', 18000.0, 6.0),\n",
       " (1, 7, '2023-04-06', 17670.0, 5.89),\n",
       " (1, 7, '2023-04-07', 18000.0, 6.0),\n",
       " (1, 7, '2023-04-08', 18000.0, 6.0),\n",
       " (1, 7, '2023-04-09', 17610.0, 5.87),\n",
       " (1, 7, '2023-04-10', 13830.0, 4.61),\n",
       " (1, 7, '2023-04-11', 0.0, 0.0),\n",
       " (1, 7, '2023-04-12', 8400.0, 2.8),\n",
       " (2, 10, '2023-04-06', 96000.0, 8.0),\n",
       " (2, 10, '2023-04-07', 96000.0, 8.0),\n",
       " (2, 10, '2023-04-08', 96000.0, 8.0),\n",
       " (2, 10, '2023-04-09', 96000.0, 8.0),\n",
       " (2, 10, '2023-04-10', 96000.0, 8.0),\n",
       " (2, 10, '2023-04-11', 96000.0, 8.0),\n",
       " (2, 10, '2023-04-12', 96000.0, 8.0),\n",
       " (2, 10, '2023-04-13', 96000.0, 8.0),\n",
       " (3, 15, '2023-04-06', 102000.0, 6.0),\n",
       " (3, 15, '2023-04-07', 102000.0, 6.0),\n",
       " (3, 15, '2023-04-08', 74460.0, 4.38),\n",
       " (3, 15, '2023-04-09', 77010.0, 4.53),\n",
       " (3, 15, '2023-04-10', 102000.0, 6.0),\n",
       " (3, 15, '2023-04-11', 0.0, 0.0),\n",
       " (3, 15, '2023-04-12', 0.0, 0.0),\n",
       " (3, 15, '2023-04-13', 72080.0, 4.24),\n",
       " (4, 11, '2023-04-06', 49000.0, 7.0),\n",
       " (4, 11, '2023-04-07', 49000.0, 7.0),\n",
       " (4, 11, '2023-04-08', 49000.0, 7.0),\n",
       " (4, 11, '2023-04-09', 49000.0, 7.0),\n",
       " (4, 11, '2023-04-10', 49000.0, 7.0),\n",
       " (4, 11, '2023-04-11', 49000.0, 7.0),\n",
       " (4, 11, '2023-04-12', 49000.0, 7.0),\n",
       " (4, 11, '2023-04-13', 17780.0, 2.54),\n",
       " (5, 12, '2023-04-06', 6000.0, 4.0),\n",
       " (5, 12, '2023-04-07', 6000.0, 4.0),\n",
       " (5, 12, '2023-04-08', 6000.0, 4.0),\n",
       " (5, 12, '2023-04-09', 6000.0, 4.0),\n",
       " (5, 12, '2023-04-10', 5475.0, 3.65),\n",
       " (5, 12, '2023-04-11', 0.0, 0.0),\n",
       " (5, 12, '2023-04-12', 4245.0, 2.83),\n",
       " (5, 12, '2023-04-13', 4140.0, 2.76),\n",
       " (6, 13, '2023-04-06', 270000.0, 9.0),\n",
       " (6, 13, '2023-04-07', 270000.0, 9.0),\n",
       " (6, 13, '2023-04-08', 168600.0, 5.62),\n",
       " (6, 13, '2023-04-09', 0.0, 0.0),\n",
       " (6, 13, '2023-04-10', 221100.0, 7.37),\n",
       " (6, 13, '2023-04-11', 219600.0, 7.32),\n",
       " (6, 13, '2023-04-12', 270000.0, 9.0),\n",
       " (6, 13, '2023-04-13', 270000.0, 9.0),\n",
       " (7, 14, '2023-04-05', 10000.0, 1.0),\n",
       " (7, 14, '2023-04-06', 0.0, 0.0),\n",
       " (7, 14, '2023-04-07', 10000.0, 1.0),\n",
       " (7, 14, '2023-04-08', 10000.0, 1.0),\n",
       " (7, 14, '2023-04-09', 8800.0, 0.88),\n",
       " (7, 14, '2023-04-10', 4800.0, 0.48),\n",
       " (7, 14, '2023-04-11', 0.0, 0.0),\n",
       " (7, 14, '2023-04-12', 0.0, 0.0),\n",
       " (8, 3, '2023-04-06', 174000.0, 12.0),\n",
       " (8, 3, '2023-04-07', 161675.0, 11.15),\n",
       " (8, 3, '2023-04-08', 137605.0, 9.49),\n",
       " (8, 3, '2023-04-09', 165735.0, 11.43),\n",
       " (8, 3, '2023-04-10', 174000.0, 12.0),\n",
       " (8, 3, '2023-04-11', 0.0, 0.0),\n",
       " (8, 3, '2023-04-12', 0.0, 0.0),\n",
       " (8, 3, '2023-04-13', 160805.0, 11.09)]"
      ]
     },
     "execution_count": 12,
     "metadata": {},
     "output_type": "execute_result"
    }
   ],
   "source": [
    "cursor.execute(\"SELECT * FROM wasserbedarfsanalyse\")\n",
    "wasserbedarf_query = cursor.fetchall()\n",
    "wasserbedarf_query"
   ]
  },
  {
   "cell_type": "code",
   "execution_count": null,
   "id": "f1423112-7aee-4a58-9dc1-50b3b53f94bc",
   "metadata": {},
   "outputs": [],
   "source": []
  }
 ],
 "metadata": {
  "kernelspec": {
   "display_name": "Python 3 (ipykernel)",
   "language": "python",
   "name": "python3"
  },
  "language_info": {
   "codemirror_mode": {
    "name": "ipython",
    "version": 3
   },
   "file_extension": ".py",
   "mimetype": "text/x-python",
   "name": "python",
   "nbconvert_exporter": "python",
   "pygments_lexer": "ipython3",
   "version": "3.9.13"
  }
 },
 "nbformat": 4,
 "nbformat_minor": 5
}
