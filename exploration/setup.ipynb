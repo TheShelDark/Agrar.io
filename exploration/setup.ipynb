{
 "cells": [
  {
   "cell_type": "markdown",
   "id": "1a77e83c-4b09-4678-8cb4-06556d3e334c",
   "metadata": {},
   "source": [
    "# Setup der Datenbanken\n",
    "### In diesem Notebook wird eine Verbindung zu unserer Azure MySQL Datenbank hergestellt. Anschließend werden die für das BI Tool nötigen Tabellen angelegt. Als erstes wird das Package mysql-connector-python installiert."
   ]
  },
  {
   "cell_type": "code",
   "execution_count": 1,
   "id": "2481aafb-7e06-4203-93cc-005de22d8cf1",
   "metadata": {},
   "outputs": [
    {
     "name": "stdout",
     "output_type": "stream",
     "text": [
      "Requirement already satisfied: mysql-connector-python in d:\\anaconda\\lib\\site-packages (8.0.32)\n",
      "Requirement already satisfied: protobuf<=3.20.3,>=3.11.0 in d:\\anaconda\\lib\\site-packages (from mysql-connector-python) (3.20.3)\n",
      "Requirement already satisfied: python-dotenv in d:\\anaconda\\lib\\site-packages (1.0.0)\n"
     ]
    }
   ],
   "source": [
    "!pip install mysql-connector-python\n",
    "!pip install python-dotenv"
   ]
  },
  {
   "cell_type": "markdown",
   "id": "78a77ef1-93da-417d-91c3-3010e88ac888",
   "metadata": {},
   "source": [
    "### Als nächstes stellen wir eine Verbindung zu unserer Datenbank her und legen einen Cursor für diese an."
   ]
  },
  {
   "cell_type": "code",
   "execution_count": 1,
   "id": "4b83b69c-c014-4159-abc7-50f326ee8bbd",
   "metadata": {},
   "outputs": [
    {
     "name": "stdout",
     "output_type": "stream",
     "text": [
      "<mysql.connector.connection_cext.CMySQLConnection object at 0x0000028D2BC21D60>\n"
     ]
    }
   ],
   "source": [
    "import mysql.connector\n",
    "import os\n",
    "from dotenv import load_dotenv\n",
    "\n",
    "load_dotenv()\n",
    "username = os.environ.get('AZURE_USER')\n",
    "password = os.environ.get('PASSWORD')\n",
    "host = os.environ.get('HOST')\n",
    "db = os.environ.get('DB')\n",
    "\n",
    "# Establish the connection\n",
    "conn = mysql.connector.connect(\n",
    "  user=username, \n",
    "  password=password, \n",
    "  host=host, \n",
    "  database=db\n",
    ")\n",
    "print(conn)"
   ]
  },
  {
   "cell_type": "code",
   "execution_count": 2,
   "id": "08aca9b5-4ee0-492c-a8dd-97f44da431b2",
   "metadata": {},
   "outputs": [],
   "source": [
    "cursor = conn.cursor()"
   ]
  },
  {
   "cell_type": "markdown",
   "id": "dd20ac54-9812-4715-aaaf-ef26fbfc7c65",
   "metadata": {},
   "source": [
    "### Danach werden die 4 Tabellen Ernte, Feld, Niederschlag_Pro_Tag und Wasserbedarfsanalyse erstellt."
   ]
  },
  {
   "cell_type": "code",
   "execution_count": 3,
   "id": "408df454-bbcc-4133-8180-d24c005c1aaf",
   "metadata": {},
   "outputs": [],
   "source": [
    "cursor.execute(\"CREATE TABLE ernte (ernte_id INT PRIMARY KEY AUTO_INCREMENT, ernte_name VARCHAR(100), wasserbedarf_prognose INT)\")"
   ]
  },
  {
   "cell_type": "code",
   "execution_count": 4,
   "id": "030b92f6-9635-4898-8874-a6cb75a70ef1",
   "metadata": {},
   "outputs": [],
   "source": [
    "cursor.execute(\"CREATE TABLE feld (feld_id INT PRIMARY KEY AUTO_INCREMENT, feld_groesse INT, lat FLOAT, lon FLOAT, ernte_id INT, FOREIGN KEY (ernte_id) REFERENCES ernte(ernte_id))\")"
   ]
  },
  {
   "cell_type": "code",
   "execution_count": 5,
   "id": "62fd2d09-0691-45d9-bbfa-d0967502cd9b",
   "metadata": {},
   "outputs": [],
   "source": [
    "cursor.execute(\"CREATE TABLE niederschlag_pro_tag (datum VARCHAR(12), niederschlag FLOAT, feld_id INT, FOREIGN KEY (feld_id) REFERENCES feld(feld_id))\")"
   ]
  },
  {
   "cell_type": "code",
   "execution_count": 6,
   "id": "d356b653-bc62-4086-9af6-bdda75feb763",
   "metadata": {},
   "outputs": [],
   "source": [
    "cursor.execute(\"CREATE TABLE wasserbedarfsanalyse (feld_id INT NOT NULL, ernte_id INT NOT NULL, datum VARCHAR(12) NOT NULL, wasserbedarf_pro_tag FLOAT NOT NULL, wasserbedarf_pro_tag_pro_m2 FLOAT NOT NULL, FOREIGN KEY (feld_id) REFERENCES feld(feld_id), FOREIGN KEY (ernte_id) REFERENCES ernte(ernte_id), PRIMARY KEY(feld_id, ernte_id, datum))\")"
   ]
  },
  {
   "cell_type": "markdown",
   "id": "8725de02-5c69-4f92-bbc0-8620f6817293",
   "metadata": {},
   "source": [
    "### Unsere Ernte-Tablle wird mit den ungefähren Wasserbedarfswerten befüllt. Diese sind hierbei Schätzungen für ( LITER / M² ) / TAG"
   ]
  },
  {
   "cell_type": "code",
   "execution_count": 7,
   "id": "cd138da6-2f1c-4c6f-93c4-88ccb0a4073c",
   "metadata": {},
   "outputs": [],
   "source": [
    "sql_code = \"INSERT INTO ernte (ernte_name, wasserbedarf_prognose) VALUES (%s, %s)\"\n",
    "\n",
    "ernte_values = [\n",
    "    (\"rice\", 4),\n",
    "    (\"maize\", 17),\n",
    "    (\"Soyabeans\", 12),\n",
    "    (\"beans\", 13),\n",
    "    (\"peas\", 17),\n",
    "    (\"groundnuts\", 2),\n",
    "    (\"cowpeas\", 6),\n",
    "    (\"banana\", 5),\n",
    "    (\"mango\", 3),\n",
    "    (\"grapes\", 8),\n",
    "    (\"watermelon\", 7),\n",
    "    (\"apple\", 4),\n",
    "    (\"orange\", 9),\n",
    "    (\"cotton\", 1),\n",
    "    (\"coffee\", 6)\n",
    "]\n",
    "\n",
    "cursor.executemany(sql_code, ernte_values)\n",
    "conn.commit()"
   ]
  },
  {
   "cell_type": "code",
   "execution_count": 8,
   "id": "0949b4d5-ece7-4fc7-94b3-dcfd782f5fa2",
   "metadata": {},
   "outputs": [
    {
     "name": "stdout",
     "output_type": "stream",
     "text": [
      "(1, 'rice', 4)\n",
      "(2, 'maize', 17)\n",
      "(3, 'Soyabeans', 12)\n",
      "(4, 'beans', 13)\n",
      "(5, 'peas', 17)\n",
      "(6, 'groundnuts', 2)\n",
      "(7, 'cowpeas', 6)\n",
      "(8, 'banana', 5)\n",
      "(9, 'mango', 3)\n",
      "(10, 'grapes', 8)\n",
      "(11, 'watermelon', 7)\n",
      "(12, 'apple', 4)\n",
      "(13, 'orange', 9)\n",
      "(14, 'cotton', 1)\n",
      "(15, 'coffee', 6)\n"
     ]
    }
   ],
   "source": [
    "cursor.execute(\"SELECT * FROM ernte\")\n",
    "result = cursor.fetchall()\n",
    "\n",
    "for x in result:\n",
    "    print(x)"
   ]
  },
  {
   "cell_type": "code",
   "execution_count": 7,
   "id": "9b12648f-cd1b-4b53-b56a-a357146f0041",
   "metadata": {},
   "outputs": [],
   "source": [
    "#cursor.execute(\"DROP TABLE wasserbedarfsanalyse\")\n",
    "#cursor.execute(\"DROP TABLE niederschlag_pro_tag\")\n",
    "#cursor.execute(\"DROP TABLE feld\")\n",
    "#cursor.execute(\"DROP TABLE ernte\") "
   ]
  },
  {
   "cell_type": "code",
   "execution_count": null,
   "id": "9df8f1e8-49a0-4f62-94e6-a8a59e66eb48",
   "metadata": {},
   "outputs": [],
   "source": []
  }
 ],
 "metadata": {
  "kernelspec": {
   "display_name": "Python 3 (ipykernel)",
   "language": "python",
   "name": "python3"
  },
  "language_info": {
   "codemirror_mode": {
    "name": "ipython",
    "version": 3
   },
   "file_extension": ".py",
   "mimetype": "text/x-python",
   "name": "python",
   "nbconvert_exporter": "python",
   "pygments_lexer": "ipython3",
   "version": "3.9.13"
  }
 },
 "nbformat": 4,
 "nbformat_minor": 5
}
